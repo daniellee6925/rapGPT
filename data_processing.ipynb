{
 "cells": [
  {
   "cell_type": "markdown",
   "metadata": {},
   "source": [
    "# Processing Eminem Lyrics Dataset from Kaggle\n",
    "\n",
    "## Overview\n",
    "\n",
    "The dataset contains information about Eminem's songs. The data consists of the following 5 columns:\n",
    "\n",
    "1. **Album Name**: The name of the album the song belongs to.\n",
    "2. **Song Name**: The name of the song.\n",
    "3. **Song Lyrics**: The lyrics of the song.\n",
    "4. **Album URL**: The URL of the album.\n",
    "5. **Song Views**: The number of views the song has received.\n",
    "6. **Release Date**: The date when the song was released.\n",
    "\n",
    "For our purpose, we will focus on the **Song Lyrics** column and ignore the other columns.\n",
    "\n",
    "## Dataset Link\n",
    "\n",
    "You can access the dataset [here](https://www.kaggle.com/datasets/aditya2803/eminem-lyrics/data).\n",
    "\n",
    "## Steps for Processing the Dataset\n",
    "\n",
    "We will be using **Pandas** for data manipulation and extraction of song lyrics."
   ]
  },
  {
   "cell_type": "markdown",
   "metadata": {},
   "source": [
    "**Imports**"
   ]
  },
  {
   "cell_type": "code",
   "execution_count": 41,
   "metadata": {},
   "outputs": [],
   "source": [
    "import pandas as pd\n",
    "import re\n",
    "from scripts import normalize\n",
    "import tiktoken"
   ]
  },
  {
   "cell_type": "code",
   "execution_count": 27,
   "metadata": {},
   "outputs": [
    {
     "data": {
      "text/html": [
       "<div>\n",
       "<style scoped>\n",
       "    .dataframe tbody tr th:only-of-type {\n",
       "        vertical-align: middle;\n",
       "    }\n",
       "\n",
       "    .dataframe tbody tr th {\n",
       "        vertical-align: top;\n",
       "    }\n",
       "\n",
       "    .dataframe thead th {\n",
       "        text-align: right;\n",
       "    }\n",
       "</style>\n",
       "<table border=\"1\" class=\"dataframe\">\n",
       "  <thead>\n",
       "    <tr style=\"text-align: right;\">\n",
       "      <th></th>\n",
       "      <th>Album_Name</th>\n",
       "      <th>Song_Name</th>\n",
       "      <th>Lyrics</th>\n",
       "      <th>Album_URL</th>\n",
       "      <th>Views</th>\n",
       "      <th>Release_date</th>\n",
       "      <th>Unnamed: 6</th>\n",
       "    </tr>\n",
       "  </thead>\n",
       "  <tbody>\n",
       "    <tr>\n",
       "      <th>0</th>\n",
       "      <td>Music To Be Murdered By: Side B</td>\n",
       "      <td>Alfred (Intro)</td>\n",
       "      <td>[Intro: Alfred Hitchcock]\\nThus far, this albu...</td>\n",
       "      <td>https://genius.com/albums/Eminem/Music-to-be-m...</td>\n",
       "      <td>24.3K</td>\n",
       "      <td>December 18, 2020</td>\n",
       "      <td>NaN</td>\n",
       "    </tr>\n",
       "    <tr>\n",
       "      <th>1</th>\n",
       "      <td>Music To Be Murdered By: Side B</td>\n",
       "      <td>Black Magic</td>\n",
       "      <td>[Chorus: Skylar Grey &amp; Eminem]\\nBlack magic, n...</td>\n",
       "      <td>https://genius.com/albums/Eminem/Music-to-be-m...</td>\n",
       "      <td>180.6K</td>\n",
       "      <td>December 18, 2020</td>\n",
       "      <td>NaN</td>\n",
       "    </tr>\n",
       "    <tr>\n",
       "      <th>2</th>\n",
       "      <td>Music To Be Murdered By: Side B</td>\n",
       "      <td>Alfredï¿½s Theme</td>\n",
       "      <td>[Verse 1]\\nBefore I check the mic (Check, chec...</td>\n",
       "      <td>https://genius.com/albums/Eminem/Music-to-be-m...</td>\n",
       "      <td>285.6K</td>\n",
       "      <td>December 18, 2020</td>\n",
       "      <td>NaN</td>\n",
       "    </tr>\n",
       "    <tr>\n",
       "      <th>3</th>\n",
       "      <td>Music To Be Murdered By: Side B</td>\n",
       "      <td>Tone Deaf</td>\n",
       "      <td>[Intro]\\nYeah, I'm sorry (Huh?)\\nWhat did you ...</td>\n",
       "      <td>https://genius.com/albums/Eminem/Music-to-be-m...</td>\n",
       "      <td>210.9K</td>\n",
       "      <td>December 18, 2020</td>\n",
       "      <td>NaN</td>\n",
       "    </tr>\n",
       "    <tr>\n",
       "      <th>4</th>\n",
       "      <td>Music To Be Murdered By: Side B</td>\n",
       "      <td>Book of Rhymes</td>\n",
       "      <td>[Intro]\\nI don't smile, I don't frown, get too...</td>\n",
       "      <td>https://genius.com/albums/Eminem/Music-to-be-m...</td>\n",
       "      <td>193.3K</td>\n",
       "      <td>December 18, 2020</td>\n",
       "      <td>NaN</td>\n",
       "    </tr>\n",
       "  </tbody>\n",
       "</table>\n",
       "</div>"
      ],
      "text/plain": [
       "                        Album_Name         Song_Name  \\\n",
       "0  Music To Be Murdered By: Side B    Alfred (Intro)   \n",
       "1  Music To Be Murdered By: Side B       Black Magic   \n",
       "2  Music To Be Murdered By: Side B  Alfredï¿½s Theme   \n",
       "3  Music To Be Murdered By: Side B         Tone Deaf   \n",
       "4  Music To Be Murdered By: Side B    Book of Rhymes   \n",
       "\n",
       "                                              Lyrics  \\\n",
       "0  [Intro: Alfred Hitchcock]\\nThus far, this albu...   \n",
       "1  [Chorus: Skylar Grey & Eminem]\\nBlack magic, n...   \n",
       "2  [Verse 1]\\nBefore I check the mic (Check, chec...   \n",
       "3  [Intro]\\nYeah, I'm sorry (Huh?)\\nWhat did you ...   \n",
       "4  [Intro]\\nI don't smile, I don't frown, get too...   \n",
       "\n",
       "                                           Album_URL   Views  \\\n",
       "0  https://genius.com/albums/Eminem/Music-to-be-m...   24.3K   \n",
       "1  https://genius.com/albums/Eminem/Music-to-be-m...  180.6K   \n",
       "2  https://genius.com/albums/Eminem/Music-to-be-m...  285.6K   \n",
       "3  https://genius.com/albums/Eminem/Music-to-be-m...  210.9K   \n",
       "4  https://genius.com/albums/Eminem/Music-to-be-m...  193.3K   \n",
       "\n",
       "        Release_date Unnamed: 6  \n",
       "0  December 18, 2020        NaN  \n",
       "1  December 18, 2020        NaN  \n",
       "2  December 18, 2020        NaN  \n",
       "3  December 18, 2020        NaN  \n",
       "4  December 18, 2020        NaN  "
      ]
     },
     "execution_count": 27,
     "metadata": {},
     "output_type": "execute_result"
    }
   ],
   "source": [
    "PATH = \"Raw Data/Eminem_Lyrics.csv\"\n",
    "data = pd.read_csv(PATH, sep='\\t', comment='#', encoding = \"ISO-8859-1\")\n",
    "data.head(5)"
   ]
  },
  {
   "cell_type": "markdown",
   "metadata": {},
   "source": [
    "## Extracting Lyrics to a Text File\n",
    "Intermediary Files will be saved in case it may be used in the future"
   ]
  },
  {
   "cell_type": "code",
   "execution_count": 23,
   "metadata": {},
   "outputs": [
    {
     "name": "stdout",
     "output_type": "stream",
     "text": [
      "Lyrics have been written to Text File/eminem_lyrics.txt\n"
     ]
    }
   ],
   "source": [
    "output_file_path = 'Text File/'\n",
    "lyrics_file_name = 'eminem_lyrics.txt'\n",
    "lyrics = data['Lyrics']\n",
    "\n",
    "# Write lyrics to the text file, each lyric on a new line\n",
    "with open(output_file_path + lyrics_file_name, 'w', encoding='utf-8') as f:\n",
    "    for lyric in lyrics:\n",
    "        f.write(lyric + '\\n')\n",
    "\n",
    "print(f\"Lyrics have been written to {output_file_path + lyrics_file_name}\")"
   ]
  },
  {
   "cell_type": "markdown",
   "metadata": {},
   "source": [
    "Lyrics are separated into Intro, Outro, Chorus, Verse, etc. <br><br>\n",
    "**We are only interested in the [Verse] part of the lyrics since it contains the 'rap' portion**"
   ]
  },
  {
   "cell_type": "code",
   "execution_count": 24,
   "metadata": {},
   "outputs": [],
   "source": [
    "#open lyrics text file \n",
    "with open(output_file_path + lyrics_file_name, 'r', encoding=\"utf-8\") as file:\n",
    "    text = file.read()\n",
    "# Use regex to capture everything after '[Verse ...]' and before the next section\n",
    "verse_only = re.findall(r'\\[Verse.*?\\]\\n(.*?)(?=\\n\\[\\w|\\Z)', text, re.DOTALL)\n",
    "# Join the found text into a single string\n",
    "verse_only = '\\n'.join(verse_only)\n",
    "\n",
    "verse_file_name = 'verse_only.txt'\n",
    "# Output the result\n",
    "with open(output_file_path+verse_file_name, \"w\", encoding=\"utf-8\") as f:\n",
    "    f.write(verse_only)"
   ]
  },
  {
   "cell_type": "markdown",
   "metadata": {},
   "source": [
    "## Normalize Text\n",
    "1. Remove unwanted characters but keep newlines\n",
    "2. Normalize multiple spaces to a single space\n",
    "3. Remove trailing spaces before newlines\n",
    "4. Normalize multiple newlines to a single newline\n",
    "5. Convert to lower case\n",
    "\n",
    "**We are keeping newlines since it:**\n",
    "\n",
    "1. **Preserves Structure and Rhythm:**\n",
    "   - Rap lyrics are often structured in lines with rhymes, rhythms, and pauses. Keeping newlines helps the model learn this structure, making the generated lyrics feel more natural and rhythmic.\n",
    "2. **Improves Readability:**\n",
    "   - If the model generates lyrics with line breaks, it will be easier to read and evaluate during testing or usage.\n",
    "3. **Captures Line-Level Context:**\n",
    "   - By retaining newlines, the model can learn dependencies between consecutive lines without treating them as a continuous block of text.\n",
    "4. **Helps During Post-Processing:**\n",
    "   - You can always remove or modify newlines later if needed, but adding them back after training might be harder since the original structure would have been lost."
   ]
  },
  {
   "cell_type": "code",
   "execution_count": 43,
   "metadata": {},
   "outputs": [
    {
     "data": {
      "text/plain": [
       "\"we're volatile i can't call it though\\nit's like too large a peg and too small a hole yeah\\nbut she ch\""
      ]
     },
     "execution_count": 43,
     "metadata": {},
     "output_type": "execute_result"
    }
   ],
   "source": [
    "cleaned_verse_only = normalize.preprocess_text_with_newlines(verse_only)\n",
    "cleaned_verse_only[:100]"
   ]
  },
  {
   "cell_type": "markdown",
   "metadata": {},
   "source": [
    "## gpt2 BPE Tokenizer will be used to encode the text "
   ]
  },
  {
   "cell_type": "code",
   "execution_count": 48,
   "metadata": {},
   "outputs": [],
   "source": [
    "# Load the GPT-2 tokenizer\n",
    "tokenizer = tiktoken.get_encoding(\"gpt2\")\n",
    "# Tokenize the text\n",
    "tokens = tokenizer.encode(cleaned_verse_only)\n",
    "\n",
    "# Decode the tokens back to text\n",
    "#decoded_text = tokenizer.decode(tokens[:10])\n",
    "#print(\"Decoded text:\", decoded_text)"
   ]
  }
 ],
 "metadata": {
  "kernelspec": {
   "display_name": "Python 3",
   "language": "python",
   "name": "python3"
  },
  "language_info": {
   "codemirror_mode": {
    "name": "ipython",
    "version": 3
   },
   "file_extension": ".py",
   "mimetype": "text/x-python",
   "name": "python",
   "nbconvert_exporter": "python",
   "pygments_lexer": "ipython3",
   "version": "3.11.9"
  }
 },
 "nbformat": 4,
 "nbformat_minor": 2
}
